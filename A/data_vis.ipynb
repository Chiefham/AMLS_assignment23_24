{
 "cells": [
  {
   "cell_type": "code",
   "execution_count": 6,
   "id": "8ec00a7f",
   "metadata": {},
   "outputs": [],
   "source": [
    "import numpy as np\n",
    "\n",
    "\n",
    "data_path = r'E:\\UCL_Term1\\Applied_Machine_Learning_Systems_1\\Assignment\\AMLS_23-24_SN23132249\\Datasets\\pneumoniamnist.npz'\n",
    "pneumoniamnist_data = np.load(data_path)\n",
    "\n"
   ]
  },
  {
   "cell_type": "code",
   "execution_count": 7,
   "id": "59a2c92c",
   "metadata": {},
   "outputs": [
    {
     "data": {
      "text/plain": [
       "['train_images',\n",
       " 'val_images',\n",
       " 'test_images',\n",
       " 'train_labels',\n",
       " 'val_labels',\n",
       " 'test_labels']"
      ]
     },
     "execution_count": 7,
     "metadata": {},
     "output_type": "execute_result"
    }
   ],
   "source": [
    "pneumoniamnist_data.files\n"
   ]
  },
  {
   "cell_type": "code",
   "execution_count": 8,
   "id": "36cefa6e",
   "metadata": {},
   "outputs": [
    {
     "data": {
      "text/plain": [
       "(4708, 28, 28)"
      ]
     },
     "execution_count": 8,
     "metadata": {},
     "output_type": "execute_result"
    }
   ],
   "source": [
    "pneumoniamnist_data['train_images'].shape"
   ]
  },
  {
   "cell_type": "code",
   "execution_count": 12,
   "id": "36a59c43",
   "metadata": {},
   "outputs": [
    {
     "data": {
      "text/plain": [
       "(524, 28, 28)"
      ]
     },
     "execution_count": 12,
     "metadata": {},
     "output_type": "execute_result"
    }
   ],
   "source": [
    "pneumoniamnist_data['val_images'].shape"
   ]
  },
  {
   "cell_type": "code",
   "execution_count": null,
   "id": "bdf37cd4",
   "metadata": {},
   "outputs": [],
   "source": []
  },
  {
   "cell_type": "code",
   "execution_count": 9,
   "id": "1041d602",
   "metadata": {},
   "outputs": [],
   "source": [
    "data_path = r'E:\\UCL_Term1\\Applied_Machine_Learning_Systems_1\\Assignment\\AMLS_23-24_SN23132249\\Datasets\\pathmnist.npz'\n",
    "pathmnist_data = np.load(data_path)"
   ]
  },
  {
   "cell_type": "code",
   "execution_count": 10,
   "id": "7c764952",
   "metadata": {},
   "outputs": [
    {
     "data": {
      "text/plain": [
       "['train_images',\n",
       " 'val_images',\n",
       " 'test_images',\n",
       " 'train_labels',\n",
       " 'val_labels',\n",
       " 'test_labels']"
      ]
     },
     "execution_count": 10,
     "metadata": {},
     "output_type": "execute_result"
    }
   ],
   "source": [
    "pathmnist_data.files"
   ]
  },
  {
   "cell_type": "code",
   "execution_count": null,
   "id": "d0896fcf",
   "metadata": {},
   "outputs": [],
   "source": []
  }
 ],
 "metadata": {
  "kernelspec": {
   "display_name": "Python 3 (ipykernel)",
   "language": "python",
   "name": "python3"
  },
  "language_info": {
   "codemirror_mode": {
    "name": "ipython",
    "version": 3
   },
   "file_extension": ".py",
   "mimetype": "text/x-python",
   "name": "python",
   "nbconvert_exporter": "python",
   "pygments_lexer": "ipython3",
   "version": "3.8.18"
  }
 },
 "nbformat": 4,
 "nbformat_minor": 5
}
